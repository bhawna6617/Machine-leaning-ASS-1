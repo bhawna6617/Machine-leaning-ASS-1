{
 "cells": [
  {
   "cell_type": "markdown",
   "id": "47556f1f",
   "metadata": {},
   "source": [
    "# ques - 1\n"
   ]
  },
  {
   "cell_type": "code",
   "execution_count": 1,
   "id": "52e49d2b",
   "metadata": {},
   "outputs": [],
   "source": [
    "# AI=it stand for ArtificalIntelligence. AI is smart application data can perform own tesk without any human intervanction . eg:- self driving car.\n",
    "# ML=it stand for machine learning . ML is a subset of AI that focus on the development of  algo and model that enable computer to learn patter.eg:netflix\n",
    "# DL=it stand for deep Learning.it is a subset of machine learning.v"
   ]
  },
  {
   "cell_type": "markdown",
   "id": "07bd2bac",
   "metadata": {},
   "source": [
    "# ques - 2"
   ]
  },
  {
   "cell_type": "code",
   "execution_count": 2,
   "id": "c546c8f3",
   "metadata": {},
   "outputs": [],
   "source": [
    "\n",
    "# example# supervisised learning :-you known the output feature. in simple word . further it divided into two parts 1.Regressing 2. classification\n",
    "# Task: Image Classification\n",
    "\n",
    "# Dataset: A collection of images, each labeled with the category it belongs to (e.g., cat, dog, bird).\n",
    "\n",
    "# Training: The algorithm is trained on a subset of the dataset. For each image, it learns to associate the features of the image (pixels, patterns) with the correct label (cat, dog, bird).\n",
    "\n",
    "# Testing: After training, the algorithm is tested on a separate set of images it has never seen before. The goal is to correctly classify these new images."
   ]
  },
  {
   "cell_type": "markdown",
   "id": "9fd7bac6",
   "metadata": {},
   "source": [
    "# ques-3"
   ]
  },
  {
   "cell_type": "code",
   "execution_count": 3,
   "id": "d8344aeb",
   "metadata": {},
   "outputs": [],
   "source": [
    "# unsupervisised learning:-you donot known the output feature.\n",
    "# example\n",
    "# Task: Clustering\n",
    "\n",
    "# Dataset: A collection of customer purchase data with features like spending amount and frequency of purchases, but without explicit labels.\n",
    "\n",
    "# Objective: Group similar customers based on their purchasing behavior.\n"
   ]
  },
  {
   "cell_type": "markdown",
   "id": "3231e92a",
   "metadata": {},
   "source": [
    "# ques-4"
   ]
  },
  {
   "cell_type": "code",
   "execution_count": 4,
   "id": "ab9af6de",
   "metadata": {},
   "outputs": [],
   "source": [
    "# AI=it stand for ArtificalIntelligence. AI is smart application data can perform own tesk without any human intervanction . eg:- self driving car.\n",
    "# ML=it stand for machine learning . ML is a subset of AI that focus on the development of  algo and model that enable computer to learn patter.eg:netflix\n",
    "# DL=it stand for deep Learning.it is a subset of machine learning.\n",
    "# DS=Data science is a multidisciplinary field that uses scientific methods, processes, algorithms, and systems to extract insights and knowledge from structured and unstructured data. It combines expertise from various domains such as statistics, mathematics, computer science, and domain-specific knowledge to analyze and interpret complex data sets."
   ]
  },
  {
   "cell_type": "markdown",
   "id": "14f6b8c0",
   "metadata": {},
   "source": [
    "# ques-5"
   ]
  },
  {
   "cell_type": "code",
   "execution_count": 5,
   "id": "8c8369db",
   "metadata": {},
   "outputs": [],
   "source": [
    "# supervisised learning :-you known the output feature. in simple word . further it divided into two parts 1.Regressing 2. classification\n",
    "#unsupervisised learning:- you donot known the output feature.\n",
    "# semi- supervisied:- it is a combination of supervisied + unsupervisied learning\n"
   ]
  },
  {
   "cell_type": "markdown",
   "id": "b92c3581",
   "metadata": {},
   "source": [
    "# ques-6"
   ]
  },
  {
   "cell_type": "code",
   "execution_count": 6,
   "id": "9e16828a",
   "metadata": {},
   "outputs": [],
   "source": [
    "# train:- we will trained our model eg:- book (ques,ans)\n",
    "#test:- test model eg(exam)\n",
    "# validation:-hypertming of the model(diff book (ques,ans))"
   ]
  },
  {
   "cell_type": "markdown",
   "id": "ca13018e",
   "metadata": {},
   "source": [
    "# ques-7\n"
   ]
  },
  {
   "cell_type": "code",
   "execution_count": null,
   "id": "c8b40efa",
   "metadata": {},
   "outputs": [],
   "source": [
    "#Unsupervised learning can be particularly useful in anomaly detection, as it allows the algorithm to identify patterns in data without the need for labeled examples of normal and anomalous instances"
   ]
  }
 ],
 "metadata": {
  "kernelspec": {
   "display_name": "Python 3 (ipykernel)",
   "language": "python",
   "name": "python3"
  },
  "language_info": {
   "codemirror_mode": {
    "name": "ipython",
    "version": 3
   },
   "file_extension": ".py",
   "mimetype": "text/x-python",
   "name": "python",
   "nbconvert_exporter": "python",
   "pygments_lexer": "ipython3",
   "version": "3.11.5"
  }
 },
 "nbformat": 4,
 "nbformat_minor": 5
}
